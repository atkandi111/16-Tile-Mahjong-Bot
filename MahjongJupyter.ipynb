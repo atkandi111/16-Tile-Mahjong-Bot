{
 "cells": [
  {
   "cell_type": "code",
   "execution_count": 5,
   "metadata": {},
   "outputs": [
    {
     "data": {
      "text/plain": [
       "['c6', 'c9', 'c3']"
      ]
     },
     "execution_count": 5,
     "metadata": {},
     "output_type": "execute_result"
    }
   ],
   "source": [
    "from collections import Counter\n",
    "from itertools import combinations\n",
    "\n",
    "hand = [\"c3\", \"c3\", \"c4\", \"c5\", \"c6\", \"c9\", \"c9\"]\n",
    "reference = [\n",
    "        \"b1\", \"b2\", \"b3\", \"b4\", \"b5\", \"b6\", \"b7\", \"b8\", \"b9\",\n",
    "        \"s1\", \"s2\", \"s3\", \"s4\", \"s5\", \"s6\", \"s7\", \"s8\", \"s9\",\n",
    "        \"c1\", \"c2\", \"c3\", \"c4\", \"c5\", \"c6\", \"c7\", \"c8\", \"c9\",\n",
    "        \"dN\", \"dE\", \"dW\", \"dS\", \"tG\", \"tR\", \"tW\", \"fR\", \"fB\"\n",
    "    ] * 4\n",
    "\n",
    "def Group_Sets(hand):\n",
    "    freq = Counter(hand)\n",
    "    pair, pong, chow = [], [], []\n",
    "    pair = [[x] * 2 for x in freq if freq[x] > 1]\n",
    "    pong = [[x] * 3 for x in freq if freq[x] > 2]\n",
    "    for item in freq:\n",
    "        suit, unit = item[0], item[1]\n",
    "        if unit.isalpha():\n",
    "            continue\n",
    "\n",
    "        seqn = [0, 1, 2]\n",
    "        seqn = [x + int(unit) for x in seqn]\n",
    "        seqn = [suit + str(x) for x in seqn]\n",
    "        \n",
    "        chow += [seqn] * min([freq[x] for x in seqn])\n",
    "    return pair, pong, chow\n",
    "\n",
    "def Suggest(hand, opened, discard):\n",
    "    pair, pong, chow = Group_Sets(hand)\n",
    "    freq = Counter(reference) - Counter(hand + opened + discard)\n",
    "    melds_remaining_without = {}\n",
    "    for i in set(hand):\n",
    "        temp = hand.copy()\n",
    "        temp.remove(i)\n",
    "\n",
    "        def get_meld_count(length):\n",
    "            while length >= 0:\n",
    "                case_pool = [*combinations(pong + chow, length)]\n",
    "                for item in case_pool:\n",
    "                    case = [x for meld in item for x in meld]\n",
    "                    if (Counter(case) - Counter(temp)):\n",
    "                        \"\"\"\n",
    "                        TRUE if num_case > num_hand\n",
    "                        implies some cards are duplicated\n",
    "                        testcase doesnt reflect hand\n",
    "                        \"\"\"\n",
    "                        continue\n",
    "                    return length\n",
    "                    \"\"\"\n",
    "                    removes meld if not present in all testcases\n",
    "                    where num_meld is maximized\n",
    "                    \"\"\"\n",
    "                length = length - 1\n",
    "\n",
    "        melds_remaining_without[i] = get_meld_count(len(hand) // 3)\n",
    "    \n",
    "    max_tn = max(melds_remaining_without.values())\n",
    "    return [k for k, v in melds_remaining_without.items() if v == max_tn]\n",
    "    \n",
    "    \"\"\"\n",
    "    If win:\n",
    "        return\n",
    "    if not win:\n",
    "        go to semi-melds\n",
    "\n",
    "    Flowchart:\n",
    "    1. Group together melds\n",
    "    2. Weight incomplete cards\n",
    "        Priority based on number of cards\n",
    "        available needed to complete a meld\n",
    "    3. Discard card with lowest weight\n",
    "    \"\"\"\n",
    "    #try if eye should be included or not\n",
    "\n",
    "Suggest(hand, [], [])"
   ]
  },
  {
   "cell_type": "code",
   "execution_count": 4,
   "metadata": {},
   "outputs": [
    {
     "name": "stdout",
     "output_type": "stream",
     "text": [
      "[(['c4', 'c5', 'c6'], ['c3', 'c3']), (['c3', 'c4', 'c5'], ['c9', 'c9']), (['c4', 'c5', 'c6'], ['c9', 'c9'])]\n",
      "[(['c3', 'c4', 'c5'],), (['c4', 'c5', 'c6'],)]\n",
      "[['c4', 'c5', 'c6'], ['c3', 'c3'], ['c3', 'c4', 'c5'], ['c9', 'c9'], ['c4', 'c5', 'c6'], ['c9', 'c9']]\n"
     ]
    },
    {
     "ename": "ValueError",
     "evalue": "list.remove(x): x not in list",
     "output_type": "error",
     "traceback": [
      "\u001b[0;31m---------------------------------------------------------------------------\u001b[0m",
      "\u001b[0;31mValueError\u001b[0m                                Traceback (most recent call last)",
      "Cell \u001b[0;32mIn[4], line 84\u001b[0m\n\u001b[1;32m     66\u001b[0m \u001b[39m    \u001b[39m\u001b[39m\"\"\"\u001b[39;00m\n\u001b[1;32m     67\u001b[0m \u001b[39m    If win:\u001b[39;00m\n\u001b[1;32m     68\u001b[0m \u001b[39m        return\u001b[39;00m\n\u001b[0;32m   (...)\u001b[0m\n\u001b[1;32m     77\u001b[0m \u001b[39m    3. Discard card with lowest weight\u001b[39;00m\n\u001b[1;32m     78\u001b[0m \u001b[39m    \"\"\"\u001b[39;00m\n\u001b[1;32m     79\u001b[0m     \u001b[39m#try if eye should be included or not\u001b[39;00m\n\u001b[0;32m---> 84\u001b[0m Suggest(hand)\n",
      "Cell \u001b[0;32mIn[4], line 61\u001b[0m, in \u001b[0;36mSuggest\u001b[0;34m(hand)\u001b[0m\n\u001b[1;32m     59\u001b[0m \u001b[39mprint\u001b[39m(case)\n\u001b[1;32m     60\u001b[0m \u001b[39mwhile\u001b[39;00m case:\n\u001b[0;32m---> 61\u001b[0m     semi_meld\u001b[39m.\u001b[39;49mremove(case\u001b[39m.\u001b[39;49mpop())\n\u001b[1;32m     63\u001b[0m \u001b[39mprint\u001b[39m(full_meld)\n\u001b[1;32m     64\u001b[0m \u001b[39mprint\u001b[39m(semi_meld)\n",
      "\u001b[0;31mValueError\u001b[0m: list.remove(x): x not in list"
     ]
    }
   ],
   "source": [
    "from collections import Counter\n",
    "from itertools import combinations\n",
    "\n",
    "hand = [\"c3\", \"c3\", \"c4\", \"c5\", \"c6\", \"c9\", \"c9\"]\n",
    "\n",
    "def Group_Sets(hand):\n",
    "    freq = Counter(hand)\n",
    "    pair, pong, chow = [], [], []\n",
    "    pair = [[x] * 2 for x in freq if freq[x] > 1]\n",
    "    pong = [[x] * 3 for x in freq if freq[x] > 2]\n",
    "    for item in freq:\n",
    "        suit, unit = item[0], item[1]\n",
    "        if unit.isalpha():\n",
    "            continue\n",
    "\n",
    "        seqn = [0, 1, 2]\n",
    "        seqn = [x + int(unit) for x in seqn]\n",
    "        seqn = [suit + str(x) for x in seqn]\n",
    "        \n",
    "        chow += [seqn] * min([freq[x] for x in seqn])\n",
    "    return pair, pong, chow\n",
    "\n",
    "def Suggest(hand):\n",
    "    pair, pong, chow = Group_Sets(hand)\n",
    "\n",
    "    full_meld, semi_meld = [], []\n",
    "    length = len(hand) // 3\n",
    "\n",
    "    winning_case = False\n",
    "    class_of_win = \"Standard\"\n",
    "\n",
    "    eye_pool = pair\n",
    "\n",
    "    while full_meld == [] and length > 0:\n",
    "        case_pool = [*combinations(pong + chow, length)]\n",
    "        for eye in eye_pool:\n",
    "            for item in case_pool:\n",
    "                item = item + (eye, )\n",
    "                case = [x for meld in item for x in meld]\n",
    "                if (Counter(case) - Counter(hand)):\n",
    "                    \"\"\"\n",
    "                    TRUE if num_case > num_hand\n",
    "                    implies some cards are duplicated\n",
    "                    testcase doesnt reflect hand\n",
    "                    \"\"\"\n",
    "                    continue\n",
    "                full_meld.append(item)\n",
    "                \"\"\"\n",
    "                removes meld if not present in all testcases\n",
    "                where num_meld is maximized\n",
    "                \"\"\"\n",
    "        length = length - 1\n",
    "\n",
    "    print(full_meld)\n",
    "    \n",
    "    print(case_pool)\n",
    "    semi_meld = hand.copy()\n",
    "    case = [x for meld in full_meld for x in meld]\n",
    "    print(case)\n",
    "    while case:\n",
    "        semi_meld.remove(case.pop())\n",
    "    \n",
    "    print(full_meld)\n",
    "    print(semi_meld)\n",
    "    \n",
    "    \"\"\"\n",
    "    If win:\n",
    "        return\n",
    "    if not win:\n",
    "        go to semi-melds\n",
    "\n",
    "    Flowchart:\n",
    "    1. Group together melds\n",
    "    2. Weight incomplete cards\n",
    "        Priority based on number of cards\n",
    "        available needed to complete a meld\n",
    "    3. Discard card with lowest weight\n",
    "    \"\"\"\n",
    "    #try if eye should be included or not\n",
    "\n",
    "\n",
    "\n",
    "\n",
    "Suggest(hand)\n",
    "            \n",
    "    \n"
   ]
  },
  {
   "cell_type": "code",
   "execution_count": 1,
   "metadata": {},
   "outputs": [
    {
     "name": "stdout",
     "output_type": "stream",
     "text": [
      "[['b1', 'b2', 'b3'], ['b2', 'b3', 'b4'], ['b2', 'b3', 'b4'], ['b1', 'b1']]\n",
      "[['b1', 'b2', 'b3'], ['b2', 'b3', 'b4'], ['b2', 'b3', 'b4'], ['b1', 'b1']]\n",
      "[['b1', 'b2', 'b3'], ['b2', 'b3', 'b4'], ['b2', 'b3', 'b4'], ['b1', 'b1']]\n",
      "[['b1', 'b1', 'b1'], ['b2', 'b2', 'b2'], ['b3', 'b3', 'b3'], ['b4', 'b4']]\n",
      "[['b1', 'b2', 'b3'], ['b1', 'b2', 'b3'], ['b1', 'b2', 'b3'], ['b4', 'b4']]\n"
     ]
    },
    {
     "data": {
      "text/plain": [
       "(True, 'Todo Pong')"
      ]
     },
     "execution_count": 1,
     "metadata": {},
     "output_type": "execute_result"
    }
   ],
   "source": [
    "from collections import Counter\n",
    "from itertools import combinations\n",
    "from random import shuffle\n",
    "\n",
    "def Group_Sets(hand):\n",
    "    freq = Counter(hand)\n",
    "    pair, pong, chow = [], [], []\n",
    "    pair = [[x] * 2 for x in freq if freq[x] > 1]\n",
    "    pong = [[x] * 3 for x in freq if freq[x] > 2]\n",
    "    for item in freq:\n",
    "        suit, unit = item[0], item[1]\n",
    "        if unit.isalpha():\n",
    "            continue\n",
    "\n",
    "        seqn = [0, 1, 2]\n",
    "        seqn = [x + int(unit) for x in seqn]\n",
    "        seqn = [suit + str(x) for x in seqn]\n",
    "\n",
    "        chow += [seqn] * min([freq[x] for x in seqn])\n",
    "    return pair, pong, chow\n",
    "\n",
    "def Check_Win(hand):\n",
    "    pair, pong, chow = Group_Sets(hand)\n",
    "    winning_case = False\n",
    "    class_of_win = \"Standard\"\n",
    "\n",
    "    if len(pair) < 7:\n",
    "        case_pool = [*combinations(pong + chow, len(hand) // 3)]\n",
    "        eye_pool = pair\n",
    "    else: #7 Pairs\n",
    "        case_pool = [*combinations(pair, 7)]\n",
    "        eye_pool = pong + chow\n",
    "\n",
    "    for eye in eye_pool:\n",
    "        for item in case_pool:\n",
    "            case = [x for meld in item for x in meld]\n",
    "\n",
    "            if Counter(case + eye) == Counter(hand):\n",
    "                print(list(item) + [eye])\n",
    "                winning_case = True\n",
    "\n",
    "                if all(x in pair for x in item):\n",
    "                    class_of_win = \"7 Pairs\"\n",
    "                if all(x in pong for x in item): \n",
    "                    class_of_win = \"Todo Pong\"\n",
    "    \n",
    "    return winning_case, class_of_win\n",
    "\n",
    "Check_Win(['b1', 'b1', 'b1', 'b2', 'b2', 'b2', 'b3', 'b3', 'b3', 'b4', 'b4'])"
   ]
  },
  {
   "cell_type": "code",
   "execution_count": 6,
   "metadata": {},
   "outputs": [
    {
     "ename": "SyntaxError",
     "evalue": "expected ':' (286271907.py, line 1)",
     "output_type": "error",
     "traceback": [
      "\u001b[0;36m  Cell \u001b[0;32mIn[6], line 1\u001b[0;36m\u001b[0m\n\u001b[0;31m    def Decompose_Meld()\u001b[0m\n\u001b[0m                        ^\u001b[0m\n\u001b[0;31mSyntaxError\u001b[0m\u001b[0;31m:\u001b[0m expected ':'\n"
     ]
    }
   ],
   "source": [
    "def Decompose_Meld()\n",
    "    \n",
    "# two options: (leaning towards 2)\n",
    "# 1. identify pre-meld combinations \n",
    "#    with most number of tiles_needed,\n",
    "#    then filter and weigh unnecessary tiles\n",
    "# 2. iterate for each card in hand \n",
    "#    and check num of tiles_needed for {hand.remove(card)},\n",
    "#    then make a list of all tiles with lowest effect on tiles_needed\n",
    "#    weight each tile,\n",
    "#    if multiple tiles have the same lowest weight,\n",
    "#    do a random search"
   ]
  },
  {
   "cell_type": "code",
   "execution_count": null,
   "metadata": {},
   "outputs": [],
   "source": [
    "# iterate through each chard in hand {True_H}\n",
    "# for each card, create a hand {H} w/out card\n",
    "\n",
    "# 1st weight: max number of melds in H\n",
    "# 2nd weight: max number of tiles_needed in H\n",
    "# 3rd weight: max number of useful cards to card\n",
    "# the card with the lowest weight is discarded\n",
    "\n",
    "# w1: remove cards where num_melds in H < max_melds in {True_H}\n",
    "\n",
    "# for each weight, if multiple cards have the\n",
    "# same lowest weight, proceed to next weight\n",
    "# e.g. if there are two cards with lowest weight in w1\n",
    "#      then proceed to weigh only those 2 cards in w2\n",
    "\n",
    "# if multiple cards still have the lowest weight\n",
    "# by w3 (the last weight), then discard by random\n",
    "\n",
    "#parang mali since full-melds should be absent by w2\n",
    "#w1 shouldn't exist and instead use Decompose() func"
   ]
  },
  {
   "cell_type": "code",
   "execution_count": 91,
   "metadata": {},
   "outputs": [
    {
     "data": {
      "text/plain": [
       "[['c2',\n",
       "  ['c4',\n",
       "   'c4',\n",
       "   'c4',\n",
       "   'c4',\n",
       "   'c7',\n",
       "   'c7',\n",
       "   'c7',\n",
       "   'c7',\n",
       "   'c8',\n",
       "   'c8',\n",
       "   'c9',\n",
       "   'c9',\n",
       "   's1',\n",
       "   's1',\n",
       "   's1',\n",
       "   's2',\n",
       "   's2',\n",
       "   's3',\n",
       "   's3',\n",
       "   's3',\n",
       "   's4',\n",
       "   's4',\n",
       "   's4',\n",
       "   's4',\n",
       "   's7',\n",
       "   's7',\n",
       "   's7',\n",
       "   's7']],\n",
       " ['c1',\n",
       "  ['c4',\n",
       "   'c4',\n",
       "   'c4',\n",
       "   'c4',\n",
       "   'c7',\n",
       "   'c7',\n",
       "   'c7',\n",
       "   'c7',\n",
       "   'c8',\n",
       "   'c8',\n",
       "   'c9',\n",
       "   'c9',\n",
       "   's1',\n",
       "   's1',\n",
       "   's1',\n",
       "   's2',\n",
       "   's2',\n",
       "   's3',\n",
       "   's3',\n",
       "   's3',\n",
       "   's4',\n",
       "   's4',\n",
       "   's4',\n",
       "   's4',\n",
       "   's7',\n",
       "   's7',\n",
       "   's7',\n",
       "   's7']]]"
      ]
     },
     "execution_count": 91,
     "metadata": {},
     "output_type": "execute_result"
    }
   ],
   "source": [
    "from collections import Counter\n",
    "\n",
    "def Sorter(hand):\n",
    "    suit = [x for x in hand if x[1].isdigit()]\n",
    "    null = [x for x in hand if x[1].isalpha()]\n",
    "\n",
    "    return sorted(suit) + sorted(null)\n",
    "\n",
    "def Tiles_Needed(hand, freq):\n",
    "    tile_needed = []\n",
    "    for card in hand:\n",
    "        suit, unit = list(card)\n",
    "        \n",
    "        if unit.isalpha():\n",
    "            seqn = [card]\n",
    "\n",
    "            completing_seqn = {\n",
    "                (seqn[0], seqn[0]) : (seqn[0], )\n",
    "            }\n",
    "        else:\n",
    "            seqn = [-2, -1, 0, 1, 2]\n",
    "            seqn = [x + int(unit) for x in seqn]\n",
    "            seqn = [suit + str(x) for x in seqn]\n",
    "\n",
    "            completing_seqn = {\n",
    "                (seqn[0], seqn[2]) : (seqn[1], ),\n",
    "                (seqn[1], seqn[2]) : (seqn[0], seqn[3]),\n",
    "                (seqn[2], seqn[2]) : (seqn[2], ),\n",
    "                (seqn[2], seqn[3]) : (seqn[1], seqn[4]),\n",
    "                (seqn[2], seqn[4]) : (seqn[3], )\n",
    "            }\n",
    "\n",
    "        for pre_meld, card in completing_seqn.items():\n",
    "            if (Counter(list(pre_meld)) - Counter(hand)):\n",
    "                continue\n",
    "            for i in list(card):\n",
    "                if i not in tile_needed:\n",
    "                    tile_needed += [i] * freq[i]\n",
    "\n",
    "    return Sorter(tile_needed)\n",
    "\n",
    "reference = [\n",
    "        \"b1\", \"b2\", \"b3\", \"b4\", \"b5\", \"b6\", \"b7\", \"b8\", \"b9\",\n",
    "        \"s1\", \"s2\", \"s3\", \"s4\", \"s5\", \"s6\", \"s7\", \"s8\", \"s9\",\n",
    "        \"c1\", \"c2\", \"c3\", \"c4\", \"c5\", \"c6\", \"c7\", \"c8\", \"c9\",\n",
    "        \"dN\", \"dE\", \"dW\", \"dS\", \"tG\", \"tR\", \"tW\", \"fR\", \"fB\"\n",
    "    ] * 4\n",
    "\n",
    "def Main():\n",
    "    hand = [\"b2\", \"b7\", \"c1\", \"c2\", \"c5\", \"c6\", \"c8\", \"c8\", \"c9\", \"c9\", \"s1\", \"s2\", \"s2\", \"s3\", \"s6\", \"s8\", \"tG\"]\n",
    "    freq = Counter(reference) - Counter(hand)\n",
    "    tiles_needed_without = {}\n",
    "    for i in set(hand):\n",
    "        temp = hand.copy()\n",
    "        temp.remove(i)\n",
    "        tiles_needed_without[i] = Tiles_Needed(temp, freq)\n",
    "    \n",
    "    return [[k, v] for k, v in tiles_needed_without.items() if v == max(tiles_needed_without.values())]\n",
    "Main()\n",
    "# get tile with most number of tiles_needed\n",
    "# it means that despite losing that tile, \n",
    "# the hand still has a lot of chances for completing pre_melds"
   ]
  },
  {
   "cell_type": "code",
   "execution_count": 9,
   "metadata": {},
   "outputs": [
    {
     "name": "stdout",
     "output_type": "stream",
     "text": [
      "aw\n",
      "tr\n"
     ]
    }
   ],
   "source": [
    "x = (\"aw\", \"tr\")\n",
    "for i in list(x):\n",
    "    print(i)"
   ]
  },
  {
   "cell_type": "code",
   "execution_count": 11,
   "metadata": {},
   "outputs": [
    {
     "name": "stdout",
     "output_type": "stream",
     "text": [
      "[]\n"
     ]
    }
   ],
   "source": [
    "freq = [1, 2, 3, 4]\n",
    "x = [i for i in freq if i > 5]\n",
    "print(x)"
   ]
  },
  {
   "cell_type": "code",
   "execution_count": 15,
   "metadata": {},
   "outputs": [
    {
     "name": "stdout",
     "output_type": "stream",
     "text": [
      "[1, 2, 3, 4]\n",
      "[5]\n"
     ]
    }
   ],
   "source": [
    "x = [1, 2, 3, 4, 5]\n",
    "print(x[:5-1])\n",
    "print(x[5-1:])"
   ]
  },
  {
   "cell_type": "code",
   "execution_count": 18,
   "metadata": {},
   "outputs": [
    {
     "name": "stdout",
     "output_type": "stream",
     "text": [
      "None\n"
     ]
    }
   ],
   "source": [
    "x = [1, 2, 3]\n",
    "y = [4, 5]\n",
    "x = x.extend(y)\n",
    "print(x)"
   ]
  },
  {
   "cell_type": "code",
   "execution_count": 30,
   "metadata": {},
   "outputs": [
    {
     "name": "stdout",
     "output_type": "stream",
     "text": [
      "['a', 'c']\n"
     ]
    }
   ],
   "source": [
    "x = [\"a\", \"b\", \"c\"]\n",
    "del x[1]\n",
    "print(x)"
   ]
  },
  {
   "cell_type": "code",
   "execution_count": 35,
   "metadata": {},
   "outputs": [
    {
     "name": "stdout",
     "output_type": "stream",
     "text": [
      "1 3 5 2 4 6\n",
      "\n"
     ]
    }
   ],
   "source": [
    "from itertools import chain\n",
    "x = chain(*[[1, 3, 5], [2, 4, 6]])\n",
    "print(*x)\n",
    "print(*x)"
   ]
  },
  {
   "cell_type": "code",
   "execution_count": 53,
   "metadata": {},
   "outputs": [
    {
     "name": "stdout",
     "output_type": "stream",
     "text": [
      "Counter({'b2': 1, 'b4': 1})\n"
     ]
    }
   ],
   "source": [
    "from collections import Counter\n",
    "x = (\"b2\", \"b2\", \"b4\")\n",
    "y = [\"b1\", \"b2\", \"b3\"]\n",
    "print(Counter(x) - Counter(y))"
   ]
  },
  {
   "cell_type": "code",
   "execution_count": 167,
   "metadata": {},
   "outputs": [
    {
     "name": "stdout",
     "output_type": "stream",
     "text": [
      "['b1', 'b1', 'b1', 'b1']\n",
      "['b1', 'b1', 'b1', 'b1', 'b3']\n",
      "['b1', 'b1', 'b1', 'b1', 'b3', 'b1']\n",
      "[]\n"
     ]
    }
   ],
   "source": [
    "from collections import Counter\n",
    "\n",
    "\n",
    "def draw_tile():\n",
    "    return wall.pop(0)\n",
    "\n",
    "def draw_flwr():\n",
    "    return wall.pop()\n",
    "\n",
    "def open_flwr(card):\n",
    "    print(hand)\n",
    "    while card in [\"fR\", \"fB\"]:\n",
    "        open.append(card)\n",
    "        card = draw_flwr()\n",
    "\n",
    "    if hand.count(card) == 3:\n",
    "        open.append(card)\n",
    "        for _ in range(3):\n",
    "            open.append(card)\n",
    "            hand.remove(card)\n",
    "        card = open_flwr(draw_flwr())\n",
    "    \n",
    "    return card\n",
    "\n",
    "\n",
    "\n",
    "open = []\n",
    "hand = [\"b1\", \"b1\", \"b1\", \"b1\"]\n",
    "wall = [\"b3\", \"fR\", \"fR\", \"fR\", \"fR\", \"fB\", \"fB\", \"fB\", \"fB\", \"b2\"]\n",
    "for idx, card in enumerate(hand):\n",
    "    if card in [\"fR\", \"fB\"]:\n",
    "        hand[idx] = open_flwr(card)\n",
    "\n",
    "hand.append(open_flwr(draw_tile()))\n",
    "for card in set(hand):\n",
    "    if hand.count(card) == 4:\n",
    "        hand.append(open_flwr(card))\n",
    "\n",
    "print(hand)\n",
    "print(open)\n",
    "\n",
    "#make open_flwr a decorator"
   ]
  },
  {
   "cell_type": "code",
   "execution_count": 39,
   "metadata": {},
   "outputs": [
    {
     "name": "stdout",
     "output_type": "stream",
     "text": [
      "i was called\n",
      "b2\n",
      "calling...\n",
      "b2\n",
      "i was called\n",
      "fR\n",
      "i was called\n",
      "b3\n",
      "calling...\n",
      "b3\n",
      "i was called\n",
      "fR\n",
      "i was called\n",
      "b1\n",
      "calling...\n",
      "b1\n",
      "i was called\n",
      "b5\n",
      "i was called\n",
      "b6\n",
      "i was called\n",
      "b5\n",
      "['b4', 'b4', 'b4', 'b5', 'b6', 'b5']\n",
      "['b2', 'b2', 'b2', 'b2', 'fR', 'b3', 'b3', 'b3', 'b3', 'fR', 'b1', 'b1', 'b1', 'b1', 'fB', 'b4']\n"
     ]
    }
   ],
   "source": [
    "from collections import Counter\n",
    "\n",
    "def open_flwr(func):\n",
    "    # checks if tile warrants a flower\n",
    "    def flwr_wrapper():\n",
    "        card = func()\n",
    "        \n",
    "        # checks if card picked is still a flower\n",
    "        while card in [\"fR\", \"fB\"]:\n",
    "            open.append(card)\n",
    "            card = draw_flwr()\n",
    "\n",
    "        # checks if card's other three is alr in hand\n",
    "        while hand.count(card) == 3:\n",
    "            open.append(card)\n",
    "            for _ in range(3):\n",
    "                open.append(card)\n",
    "                hand.remove(card)\n",
    "            card = draw_flwr()\n",
    "        return card\n",
    "    return flwr_wrapper\n",
    "\n",
    "@open_flwr\n",
    "def draw_tile():\n",
    "    return wall.pop(0)\n",
    "\n",
    "@open_flwr\n",
    "def draw_flwr():\n",
    "    return wall.pop()\n",
    "\n",
    "\n",
    "open = []\n",
    "hand = [\"b1\", \"b1\", \"b1\", \"b2\", \"fB\", \"b2\", \"b2\", \"b3\", \"b3\", \"b3\", \"b4\", \"b4\", \"b4\", \"b4\"]\n",
    "wall = [\"b2\", \"b3\", \"b6\", \"b5\", \"b6\", \"b5\", \"b1\", \"fR\", \"b3\", \"fR\"]\n",
    "\"\"\"\n",
    "#initial-flwr phase\n",
    "for idx, card in enumerate(hand):\n",
    "    if card in [\"fR\", \"fB\"]:\n",
    "        open.append(card)\n",
    "        hand[idx] = wall.pop()\n",
    "\"\"\"\n",
    "\n",
    "\"\"\"\n",
    "#initial-kang phase\n",
    "\n",
    "\"\"\"\n",
    "hand.append(draw_tile())\n",
    "\n",
    "for card in hand:\n",
    "    if card in [\"fR\", \"fB\"]:\n",
    "        open.append(card)\n",
    "        hand.remove(card)\n",
    "        hand.append(draw_flwr())\n",
    "\n",
    "for card in hand:\n",
    "    if hand.count(card) == 4:\n",
    "        open.append(card)\n",
    "        hand.remove(card)\n",
    "        hand.append(draw_flwr())\n",
    "\n",
    "\n",
    "\n",
    "print(hand)\n",
    "print(open)\n",
    "#make open_flwr a decorator"
   ]
  },
  {
   "cell_type": "code",
   "execution_count": 89,
   "metadata": {},
   "outputs": [
    {
     "name": "stdout",
     "output_type": "stream",
     "text": [
      "['b1', 'b4', 'b3']\n",
      "['fR', 'fR']\n"
     ]
    }
   ],
   "source": [
    "from collections import Counter\n",
    "\n",
    "def open_flwr(card):\n",
    "    if card in [\"fR\", \"fB\"]:\n",
    "        open.append(card)\n",
    "        card = draw_flwr()\n",
    "\n",
    "    if hand.count(card) + 1 == 4:\n",
    "        open.append(card)\n",
    "        for _ in range(3):\n",
    "            open.append(card)\n",
    "            hand.remove(card)\n",
    "        card = draw_flwr()\n",
    "\n",
    "    return card\n",
    "\n",
    "def draw_tile():\n",
    "    return open_flwr(wall.pop(0))\n",
    "\n",
    "def draw_flwr():\n",
    "    return open_flwr(wall.pop())\n",
    "\n",
    "\n",
    "open = []\n",
    "hand = [\"b1\", \"fR\"]\n",
    "wall = [\"fR\", \"b2\", \"b3\", \"b4\"]\n",
    "\"\"\"\n",
    "#initial-flwr phase\n",
    "for idx, card in enumerate(hand):\n",
    "    if card in [\"fR\", \"fB\"]:\n",
    "        open.append(card)\n",
    "        hand[idx] = wall.pop()\n",
    "\"\"\"\n",
    "\n",
    "\"\"\"\n",
    "#initial-kang phase\n",
    "\n",
    "\"\"\"\n",
    "hand.append(draw_tile())\n",
    "\n",
    "for card in hand:\n",
    "    flwr_check = card in [\"fR\", \"fB\"]\n",
    "    kang_check = hand.count(card) == 4\n",
    "    if flwr_check or kang_check:\n",
    "        hand.remove(card)\n",
    "        hand.append(open_flwr(card))\n",
    "\n",
    "\n",
    "\n",
    "print(hand)\n",
    "print(open)\n",
    "#make open_flwr a decorator"
   ]
  },
  {
   "cell_type": "code",
   "execution_count": 21,
   "metadata": {},
   "outputs": [
    {
     "name": "stdout",
     "output_type": "stream",
     "text": [
      "1\n",
      "2\n",
      "2\n",
      "3\n",
      "2\n",
      "2\n",
      "1\n",
      "3\n"
     ]
    }
   ],
   "source": [
    "hand = [1, 1, 2, 1, 2, 3, 2, 2, 1, 3]\n",
    "for card in hand:\n",
    "    print(card)\n",
    "    if hand.count(card) == 4:\n",
    "        hand.remove(card)\n",
    "        #hand.append(3)\n",
    "        #print(hand)\n",
    "        \n",
    "        #print(card)"
   ]
  },
  {
   "cell_type": "code",
   "execution_count": 51,
   "metadata": {},
   "outputs": [
    {
     "name": "stdout",
     "output_type": "stream",
     "text": [
      "start..\n",
      "3\n",
      "..end\n"
     ]
    },
    {
     "data": {
      "text/plain": [
       "4"
      ]
     },
     "execution_count": 51,
     "metadata": {},
     "output_type": "execute_result"
    }
   ],
   "source": [
    "\n",
    "def inner():\n",
    "    print(\"start..\")\n",
    "    x = test()\n",
    "    print(x)\n",
    "    print(\"..end\")\n",
    "    return 4\n",
    "\n",
    "def test():\n",
    "    return 3\n",
    "\n",
    "inner()"
   ]
  },
  {
   "cell_type": "code",
   "execution_count": 99,
   "metadata": {},
   "outputs": [
    {
     "name": "stdout",
     "output_type": "stream",
     "text": [
      "(560, 10802)\n",
      "0.00032019615173339844\n",
      "\n",
      "(560, 12576)\n",
      "0.00025391578674316406\n"
     ]
    }
   ],
   "source": [
    "import time\n",
    "import tracemalloc\n",
    "\n",
    "start = time.time()\n",
    "def ctr(number = 0):\n",
    "    if number == 10:\n",
    "        return number\n",
    "    return ctr(number + 1)\n",
    "tracemalloc.start()\n",
    "ctr()\n",
    "print(tracemalloc.get_traced_memory())\n",
    "tracemalloc.stop()\n",
    "print(time.time() - start)\n",
    "\n",
    "print()\n",
    "start = time.time()\n",
    "tracemalloc.start()\n",
    "number = 0\n",
    "while number != 10:\n",
    "    number = number + 1\n",
    "print(tracemalloc.get_traced_memory())\n",
    "tracemalloc.stop()\n",
    "print(time.time() - start)\n"
   ]
  },
  {
   "cell_type": "code",
   "execution_count": 101,
   "metadata": {},
   "outputs": [
    {
     "name": "stdout",
     "output_type": "stream",
     "text": [
      "['s', '', 't']\n"
     ]
    }
   ],
   "source": [
    "print(\"s  t\".split(\" \"))"
   ]
  },
  {
   "cell_type": "code",
   "execution_count": 105,
   "metadata": {},
   "outputs": [
    {
     "name": "stdout",
     "output_type": "stream",
     "text": [
      "()\n"
     ]
    }
   ],
   "source": [
    "from itertools import combinations\n",
    "\n",
    "print(*combinations([1, 2, 3, 4], 0))"
   ]
  },
  {
   "cell_type": "code",
   "execution_count": 106,
   "metadata": {},
   "outputs": [
    {
     "ename": "TypeError",
     "evalue": "can only concatenate str (not \"int\") to str",
     "output_type": "error",
     "traceback": [
      "\u001b[0;31m---------------------------------------------------------------------------\u001b[0m",
      "\u001b[0;31mTypeError\u001b[0m                                 Traceback (most recent call last)",
      "Cell \u001b[0;32mIn[106], line 1\u001b[0m\n\u001b[0;32m----> 1\u001b[0m string \u001b[39m=\u001b[39m \u001b[39m\"\u001b[39;49m\u001b[39ma\u001b[39;49m\u001b[39m\"\u001b[39;49m \u001b[39m+\u001b[39;49m \u001b[39m1\u001b[39;49m\n\u001b[1;32m      2\u001b[0m \u001b[39mprint\u001b[39m(string)\n",
      "\u001b[0;31mTypeError\u001b[0m: can only concatenate str (not \"int\") to str"
     ]
    }
   ],
   "source": [
    "string = \"a\" + 1\n",
    "print(string)"
   ]
  },
  {
   "cell_type": "code",
   "execution_count": 111,
   "metadata": {},
   "outputs": [
    {
     "name": "stdout",
     "output_type": "stream",
     "text": [
      "<class 'tuple'>\n"
     ]
    }
   ],
   "source": [
    "x = (1, 2, 2, 3)\n",
    "print(type(x))"
   ]
  },
  {
   "cell_type": "code",
   "execution_count": 112,
   "metadata": {},
   "outputs": [
    {
     "name": "stdout",
     "output_type": "stream",
     "text": [
      "('a', 'a')\n"
     ]
    }
   ],
   "source": [
    "x = (\"a\", )*2\n",
    "print(x)"
   ]
  },
  {
   "cell_type": "code",
   "execution_count": 121,
   "metadata": {},
   "outputs": [
    {
     "name": "stdout",
     "output_type": "stream",
     "text": [
      "False\n"
     ]
    }
   ],
   "source": [
    "from collections import Counter\n",
    "\n",
    "if Counter([3, 2]) - Counter([3, 3, 2]):\n",
    "    print(True)\n",
    "else:\n",
    "    print(False)"
   ]
  },
  {
   "cell_type": "code",
   "execution_count": 123,
   "metadata": {},
   "outputs": [
    {
     "ename": "AttributeError",
     "evalue": "'function' object has no attribute 'split'",
     "output_type": "error",
     "traceback": [
      "\u001b[0;31m---------------------------------------------------------------------------\u001b[0m",
      "\u001b[0;31mAttributeError\u001b[0m                            Traceback (most recent call last)",
      "Cell \u001b[0;32mIn[123], line 1\u001b[0m\n\u001b[0;32m----> 1\u001b[0m \u001b[39mprint\u001b[39m(\u001b[39m\"\u001b[39m\u001b[39m\\n\u001b[39;00m\u001b[39m\"\u001b[39m\u001b[39m.\u001b[39mjoin([\u001b[39m\"\u001b[39m\u001b[39mshining\u001b[39m\u001b[39m\"\u001b[39m \u001b[39mif\u001b[39;00m \u001b[39mlen\u001b[39m(s1) \u001b[39m==\u001b[39m \u001b[39mlen\u001b[39m(s2) \u001b[39mand\u001b[39;00m s2 \u001b[39min\u001b[39;00m s1\u001b[39m+\u001b[39ms1 \u001b[39melse\u001b[39;00m \u001b[39m\"\u001b[39m\u001b[39mnot shining\u001b[39m\u001b[39m\"\u001b[39m \u001b[39mfor\u001b[39;00m s1, s2 \u001b[39min\u001b[39;00m [\u001b[39minput\u001b[39m\u001b[39m.\u001b[39msplit() \u001b[39mfor\u001b[39;00m _ \u001b[39min\u001b[39;00m \u001b[39mrange\u001b[39m(\u001b[39mint\u001b[39m(\u001b[39minput\u001b[39m()))]]))\n",
      "Cell \u001b[0;32mIn[123], line 1\u001b[0m, in \u001b[0;36m<listcomp>\u001b[0;34m(.0)\u001b[0m\n\u001b[0;32m----> 1\u001b[0m \u001b[39mprint\u001b[39m(\u001b[39m\"\u001b[39m\u001b[39m\\n\u001b[39;00m\u001b[39m\"\u001b[39m\u001b[39m.\u001b[39mjoin([\u001b[39m\"\u001b[39m\u001b[39mshining\u001b[39m\u001b[39m\"\u001b[39m \u001b[39mif\u001b[39;00m \u001b[39mlen\u001b[39m(s1) \u001b[39m==\u001b[39m \u001b[39mlen\u001b[39m(s2) \u001b[39mand\u001b[39;00m s2 \u001b[39min\u001b[39;00m s1\u001b[39m+\u001b[39ms1 \u001b[39melse\u001b[39;00m \u001b[39m\"\u001b[39m\u001b[39mnot shining\u001b[39m\u001b[39m\"\u001b[39m \u001b[39mfor\u001b[39;00m s1, s2 \u001b[39min\u001b[39;00m [\u001b[39minput\u001b[39;49m\u001b[39m.\u001b[39;49msplit() \u001b[39mfor\u001b[39;00m _ \u001b[39min\u001b[39;00m \u001b[39mrange\u001b[39m(\u001b[39mint\u001b[39m(\u001b[39minput\u001b[39m()))]]))\n",
      "\u001b[0;31mAttributeError\u001b[0m: 'function' object has no attribute 'split'"
     ]
    }
   ],
   "source": []
  },
  {
   "cell_type": "code",
   "execution_count": 124,
   "metadata": {},
   "outputs": [
    {
     "name": "stdout",
     "output_type": "stream",
     "text": [
      "['b', 'c']\n"
     ]
    }
   ],
   "source": [
    "x = [\"a\", \"b\", \"c\", \"d\"]\n",
    "print(x[1:-1])\n"
   ]
  },
  {
   "cell_type": "code",
   "execution_count": 6,
   "metadata": {},
   "outputs": [
    {
     "name": "stdout",
     "output_type": "stream",
     "text": [
      "False\n"
     ]
    }
   ],
   "source": [
    "card = None\n",
    "if card:\n",
    "    print(True)\n",
    "else:\n",
    "    print(False)"
   ]
  },
  {
   "cell_type": "code",
   "execution_count": 10,
   "metadata": {},
   "outputs": [
    {
     "name": "stdout",
     "output_type": "stream",
     "text": [
      "Counter({2: 2, 1: 1, 3: 0})\n"
     ]
    }
   ],
   "source": [
    "from collections import Counter\n",
    "\n",
    "x = [1, 2, 2, 3]\n",
    "y = Counter(x)\n",
    "y[3] = y[3] - 1\n",
    "print(y)"
   ]
  },
  {
   "cell_type": "code",
   "execution_count": 11,
   "metadata": {},
   "outputs": [
    {
     "name": "stdout",
     "output_type": "stream",
     "text": [
      "'hello'\n"
     ]
    }
   ],
   "source": [
    "x = \"hello\"\n",
    "print(repr(x))"
   ]
  },
  {
   "cell_type": "code",
   "execution_count": null,
   "metadata": {},
   "outputs": [],
   "source": []
  }
 ],
 "metadata": {
  "kernelspec": {
   "display_name": "Python 3",
   "language": "python",
   "name": "python3"
  },
  "language_info": {
   "codemirror_mode": {
    "name": "ipython",
    "version": 3
   },
   "file_extension": ".py",
   "mimetype": "text/x-python",
   "name": "python",
   "nbconvert_exporter": "python",
   "pygments_lexer": "ipython3",
   "version": "3.10.7"
  },
  "orig_nbformat": 4
 },
 "nbformat": 4,
 "nbformat_minor": 2
}
